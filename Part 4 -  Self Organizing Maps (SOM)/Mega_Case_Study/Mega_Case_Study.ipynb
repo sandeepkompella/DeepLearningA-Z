{
 "cells": [
  {
   "cell_type": "markdown",
   "metadata": {
    "colab_type": "text",
    "id": "GJYk9gRO_W9P"
   },
   "source": [
    "#Mega Case Study - Making a hybrid Deep Learning Model"
   ]
  },
  {
   "cell_type": "markdown",
   "metadata": {
    "colab_type": "text",
    "id": "D8PA8C_X_fHe"
   },
   "source": [
    "#Part 1 - SOM"
   ]
  },
  {
   "cell_type": "markdown",
   "metadata": {
    "colab_type": "text",
    "id": "48btSZ8cAAVt"
   },
   "source": [
    "##Install MiniSom Package"
   ]
  },
  {
   "cell_type": "code",
   "execution_count": 1,
   "metadata": {
    "colab": {
     "base_uri": "https://localhost:8080/",
     "height": 34
    },
    "colab_type": "code",
    "id": "5ueD5zlVAAVu",
    "outputId": "3530328f-8332-45b2-cadc-dec1cd573540"
   },
   "outputs": [],
   "source": [
    "#!pip install MiniSom"
   ]
  },
  {
   "cell_type": "markdown",
   "metadata": {
    "colab_type": "text",
    "id": "y2L7M7QLAAVx"
   },
   "source": [
    "## Importing the libraries\n"
   ]
  },
  {
   "cell_type": "code",
   "execution_count": 2,
   "metadata": {
    "colab": {},
    "colab_type": "code",
    "id": "zy0_GMcbAAVx"
   },
   "outputs": [],
   "source": [
    "import numpy as np\n",
    "import pandas as pd\n",
    "import matplotlib.pyplot as plt"
   ]
  },
  {
   "cell_type": "markdown",
   "metadata": {
    "colab_type": "text",
    "id": "M74YAQUJAAVz"
   },
   "source": [
    "## Importing the dataset"
   ]
  },
  {
   "cell_type": "code",
   "execution_count": 3,
   "metadata": {
    "colab": {},
    "colab_type": "code",
    "id": "oP387iJvAAV0"
   },
   "outputs": [],
   "source": [
    "dataset = pd.read_csv('Credit_Card_Applications.csv')\n",
    "X= dataset.iloc[:, :-1].values\n",
    "y=dataset.iloc[:, -1].values"
   ]
  },
  {
   "cell_type": "markdown",
   "metadata": {
    "colab_type": "text",
    "id": "xaNRHZwYAAV2"
   },
   "source": [
    "## Feature Scaling\n"
   ]
  },
  {
   "cell_type": "code",
   "execution_count": 4,
   "metadata": {
    "colab": {},
    "colab_type": "code",
    "id": "57QK6WXTAAV3"
   },
   "outputs": [
    {
     "name": "stdout",
     "output_type": "stream",
     "text": [
      "[[8.42681467e-01 1.00000000e+00 1.25263158e-01 ... 5.00000000e-01\n",
      "  5.00000000e-02 1.21200000e-02]\n",
      " [6.96090562e-01 0.00000000e+00 1.34135338e-01 ... 5.00000000e-01\n",
      "  8.00000000e-02 0.00000000e+00]\n",
      " [3.88981656e-01 0.00000000e+00 2.38045113e-01 ... 5.00000000e-01\n",
      "  1.40000000e-01 0.00000000e+00]\n",
      " ...\n",
      " [4.39420332e-01 0.00000000e+00 7.63909774e-02 ... 5.00000000e-01\n",
      "  5.00000000e-02 0.00000000e+00]\n",
      " [8.44034934e-01 0.00000000e+00 2.05563910e-01 ... 5.00000000e-01\n",
      "  6.00000000e-02 1.10000000e-04]\n",
      " [1.06907888e-01 1.00000000e+00 4.09774436e-01 ... 0.00000000e+00\n",
      "  2.80000000e-01 0.00000000e+00]]\n",
      "(690, 15)\n"
     ]
    }
   ],
   "source": [
    "from sklearn.preprocessing import MinMaxScaler\n",
    "sc = MinMaxScaler(feature_range=(0,1))\n",
    "X= sc.fit_transform(X)\n",
    "print(X)\n",
    "print(X.shape)"
   ]
  },
  {
   "cell_type": "markdown",
   "metadata": {
    "colab_type": "text",
    "id": "WyD5sEHYAAV5"
   },
   "source": [
    "##Training the SOM\n"
   ]
  },
  {
   "cell_type": "code",
   "execution_count": 5,
   "metadata": {
    "colab": {},
    "colab_type": "code",
    "id": "-BXn8YphAAV6"
   },
   "outputs": [],
   "source": [
    "from minisom import MiniSom\n",
    "som = MiniSom(x=10,y=10, input_len=15, sigma=1.0, learning_rate=0.5)\n",
    "som.random_weights_init(X)\n",
    "som.train_random(data=X,num_iteration=100)"
   ]
  },
  {
   "cell_type": "markdown",
   "metadata": {
    "colab_type": "text",
    "id": "d9qf8w7sAAV8"
   },
   "source": [
    "##Visualizing the results\n"
   ]
  },
  {
   "cell_type": "code",
   "execution_count": 6,
   "metadata": {
    "colab": {
     "base_uri": "https://localhost:8080/",
     "height": 269
    },
    "colab_type": "code",
    "id": "cshl06SmAAV8",
    "outputId": "e183b980-8d59-473a-d72d-f3086473e90d"
   },
   "outputs": [
    {
     "data": {
      "image/png": "[encoded data removed]",
      "text/plain": [
       "<Figure size 432x288 with 2 Axes>"
      ]
     },
     "metadata": {
      "needs_background": "light"
     },
     "output_type": "display_data"
    }
   ],
   "source": [
    "from pylab import bone, pcolor, colorbar, plot, show\n",
    "bone()\n",
    "pcolor(som.distance_map().T)\n",
    "colorbar()\n",
    "markers = ['o', 's']\n",
    "colors = ['r', 'g']\n",
    "for i, x in enumerate(X):\n",
    "    w = som.winner(x)\n",
    "    plot(w[0] + 0.5,\n",
    "         w[1] + 0.5,\n",
    "         markers[y[i]],\n",
    "         markeredgecolor = colors[y[i]],\n",
    "         markerfacecolor = 'None',\n",
    "         markersize = 10,\n",
    "         markeredgewidth = 2)\n",
    "#show()"
   ]
  },
  {
   "cell_type": "markdown",
   "metadata": {
    "colab_type": "text",
    "id": "gijZkcIGAAWA"
   },
   "source": [
    "## Finding the frauds\n"
   ]
  },
  {
   "cell_type": "code",
   "execution_count": 8,
   "metadata": {
    "colab": {},
    "colab_type": "code",
    "id": "EJIH9sDvAAWA"
   },
   "outputs": [],
   "source": [
    "mappings = som.win_map(X)\n",
    "frauds = np.concatenate((mappings[(2,5)], mappings[(5,8)]), axis =0)\n",
    "frauds = sc.inverse_transform(frauds)\n"
   ]
  },
  {
   "cell_type": "markdown",
   "metadata": {
    "colab_type": "text",
    "id": "EOVO2DzCAAWD"
   },
   "source": [
    "##Printing the Fraunch Clients"
   ]
  },
  {
   "cell_type": "code",
   "execution_count": 9,
   "metadata": {
    "colab": {
     "base_uri": "https://localhost:8080/",
     "height": 833
    },
    "colab_type": "code",
    "id": "IjotUwR3AAWD",
    "outputId": "6babd385-f60f-42db-b5cf-c7b881da768f"
   },
   "outputs": [
    {
     "name": "stdout",
     "output_type": "stream",
     "text": [
      "Fraud Customer IDs\n",
      "15571121\n",
      "15660390\n",
      "15790254\n",
      "15768600\n",
      "15748552\n",
      "15757467\n",
      "15682576\n",
      "15642391\n",
      "15801441\n",
      "15815443\n",
      "15748432\n",
      "15577515\n",
      "15598802\n",
      "15708714\n",
      "15705343\n",
      "15657778\n",
      "15788131\n",
      "15652658\n",
      "15635244\n",
      "15699963\n",
      "15624595\n",
      "15688264\n",
      "15771856\n",
      "15648876\n",
      "15679394\n",
      "15720644\n",
      "15696287\n",
      "15808023\n",
      "15795079\n",
      "15808386\n",
      "15698749\n",
      "15746258\n",
      "15644878\n",
      "15671987\n",
      "15764841\n",
      "15748649\n",
      "15729718\n",
      "15786539\n",
      "15773776\n",
      "15778345\n",
      "15581700\n",
      "15700511\n",
      "15791769\n",
      "15629133\n",
      "15604963\n",
      "15667588\n",
      "15776494\n",
      "15580914\n",
      "15684512\n",
      "15691150\n",
      "15678210\n",
      "15686885\n",
      "15664615\n",
      "15607986\n",
      "15585928\n",
      "15680895\n",
      "15716276\n",
      "15583067\n",
      "15578722\n",
      "15623072\n",
      "15569682\n",
      "15587038\n",
      "15592773\n",
      "15591107\n",
      "15674583\n",
      "15588854\n"
     ]
    }
   ],
   "source": [
    "print('Fraud Customer IDs')\n",
    "for i in frauds[:, 0]:\n",
    "    print(int(i))"
   ]
  },
  {
   "cell_type": "markdown",
   "metadata": {
    "colab_type": "text",
    "id": "-9oatjNmAC8i"
   },
   "source": [
    "#Part 2 - Going from Unsupervised to Supervised Deep Learning"
   ]
  },
  {
   "cell_type": "markdown",
   "metadata": {
    "colab_type": "text",
    "id": "eDv-ecVtAtwU"
   },
   "source": [
    "##Create Matrix of Features"
   ]
  },
  {
   "cell_type": "code",
   "execution_count": 10,
   "metadata": {
    "colab": {},
    "colab_type": "code",
    "id": "h3ADq7HsA3Sh"
   },
   "outputs": [
    {
     "data": {
      "text/plain": [
       "array([[1.000e+00, 2.208e+01, 1.146e+01, ..., 1.000e+02, 1.213e+03,\n",
       "        0.000e+00],\n",
       "       [0.000e+00, 2.267e+01, 7.000e+00, ..., 1.600e+02, 1.000e+00,\n",
       "        0.000e+00],\n",
       "       [0.000e+00, 2.958e+01, 1.750e+00, ..., 2.800e+02, 1.000e+00,\n",
       "        0.000e+00],\n",
       "       ...,\n",
       "       [0.000e+00, 1.883e+01, 9.540e+00, ..., 1.000e+02, 1.000e+00,\n",
       "        1.000e+00],\n",
       "       [0.000e+00, 2.742e+01, 1.450e+01, ..., 1.200e+02, 1.200e+01,\n",
       "        1.000e+00],\n",
       "       [1.000e+00, 4.100e+01, 4.000e-02, ..., 5.600e+02, 1.000e+00,\n",
       "        1.000e+00]])"
      ]
     },
     "execution_count": 10,
     "metadata": {},
     "output_type": "execute_result"
    }
   ],
   "source": [
    "customers= dataset.iloc[:, 1:].values\n",
    "customers"
   ]
  },
  {
   "cell_type": "markdown",
   "metadata": {
    "colab_type": "text",
    "id": "ycrQvNAvBAng"
   },
   "source": [
    "## Create Dependent Variable"
   ]
  },
  {
   "cell_type": "code",
   "execution_count": 11,
   "metadata": {
    "colab": {},
    "colab_type": "code",
    "id": "Dt1TQG3NBFDM"
   },
   "outputs": [
    {
     "name": "stdout",
     "output_type": "stream",
     "text": [
      "[0. 0. 0. 0. 0. 1. 0. 1. 0. 0. 0. 0. 0. 0. 0. 0. 0. 1. 0. 1. 0. 0. 0. 0.\n",
      " 0. 0. 0. 0. 1. 0. 0. 0. 1. 0. 0. 0. 0. 0. 0. 0. 0. 0. 0. 0. 0. 0. 0. 0.\n",
      " 0. 1. 0. 0. 0. 0. 0. 0. 0. 0. 1. 0. 0. 0. 0. 0. 0. 0. 0. 0. 0. 0. 0. 0.\n",
      " 0. 0. 0. 0. 0. 0. 0. 1. 0. 0. 0. 0. 0. 0. 0. 0. 0. 0. 0. 0. 0. 0. 0. 0.\n",
      " 0. 0. 0. 1. 0. 0. 0. 0. 0. 0. 0. 0. 0. 0. 0. 0. 0. 1. 0. 0. 0. 0. 0. 0.\n",
      " 0. 0. 0. 1. 0. 0. 1. 0. 0. 0. 0. 0. 0. 0. 0. 0. 0. 0. 0. 0. 0. 0. 0. 0.\n",
      " 0. 1. 0. 0. 0. 1. 0. 1. 0. 0. 0. 0. 0. 0. 0. 0. 0. 0. 0. 0. 0. 0. 0. 0.\n",
      " 0. 0. 0. 0. 0. 0. 0. 0. 0. 0. 0. 1. 0. 0. 0. 0. 0. 0. 1. 0. 0. 0. 0. 0.\n",
      " 0. 0. 0. 0. 1. 0. 0. 0. 1. 0. 1. 0. 1. 0. 0. 0. 0. 0. 1. 0. 0. 0. 0. 1.\n",
      " 0. 0. 0. 0. 0. 0. 0. 0. 0. 0. 0. 0. 0. 0. 1. 0. 1. 0. 1. 1. 0. 0. 0. 0.\n",
      " 0. 0. 0. 0. 0. 0. 0. 0. 0. 0. 0. 0. 0. 0. 0. 0. 0. 1. 0. 0. 0. 0. 0. 0.\n",
      " 0. 0. 0. 0. 0. 0. 0. 0. 0. 0. 0. 0. 0. 0. 0. 0. 0. 0. 0. 0. 0. 0. 0. 0.\n",
      " 0. 0. 1. 0. 0. 0. 1. 0. 0. 0. 0. 0. 0. 0. 0. 0. 0. 0. 0. 0. 0. 0. 0. 0.\n",
      " 0. 1. 1. 0. 0. 0. 0. 1. 0. 0. 0. 0. 0. 0. 0. 0. 0. 0. 1. 0. 0. 0. 0. 0.\n",
      " 1. 0. 0. 0. 0. 1. 0. 0. 0. 0. 0. 1. 0. 0. 0. 0. 0. 0. 0. 0. 1. 0. 0. 0.\n",
      " 0. 0. 0. 0. 0. 0. 0. 0. 0. 0. 0. 0. 0. 0. 0. 1. 0. 0. 0. 0. 0. 0. 0. 0.\n",
      " 0. 0. 0. 0. 0. 1. 0. 0. 0. 1. 0. 0. 1. 0. 0. 0. 0. 0. 0. 0. 0. 0. 0. 0.\n",
      " 0. 0. 0. 0. 1. 0. 0. 0. 0. 0. 0. 0. 0. 0. 0. 1. 0. 0. 0. 0. 0. 0. 1. 0.\n",
      " 0. 0. 0. 0. 0. 0. 0. 0. 0. 0. 0. 0. 0. 0. 0. 0. 0. 0. 0. 0. 0. 0. 0. 0.\n",
      " 0. 0. 0. 0. 0. 0. 0. 0. 0. 1. 0. 0. 0. 0. 0. 0. 0. 0. 0. 0. 0. 0. 0. 0.\n",
      " 1. 0. 0. 0. 0. 0. 0. 0. 0. 0. 0. 0. 0. 0. 0. 0. 0. 0. 0. 0. 0. 0. 0. 0.\n",
      " 0. 1. 0. 0. 0. 0. 0. 0. 0. 0. 0. 0. 1. 1. 0. 0. 0. 0. 0. 1. 0. 0. 0. 0.\n",
      " 0. 0. 0. 0. 0. 0. 1. 1. 0. 0. 1. 0. 0. 0. 0. 0. 0. 0. 0. 0. 0. 0. 0. 0.\n",
      " 0. 0. 0. 0. 0. 0. 0. 0. 0. 0. 0. 0. 0. 0. 0. 0. 0. 0. 0. 0. 0. 0. 0. 1.\n",
      " 0. 0. 1. 0. 0. 0. 1. 0. 0. 0. 0. 0. 0. 0. 0. 0. 0. 0. 0. 0. 0. 0. 0. 0.\n",
      " 0. 0. 0. 1. 0. 0. 0. 0. 0. 0. 0. 0. 0. 0. 0. 0. 0. 0. 0. 0. 0. 1. 1. 0.\n",
      " 0. 0. 0. 0. 1. 0. 1. 0. 0. 0. 0. 0. 0. 0. 0. 0. 0. 0. 0. 0. 0. 0. 0. 0.\n",
      " 1. 0. 1. 0. 0. 0. 0. 0. 0. 0. 0. 0. 0. 0. 0. 0. 0. 0. 0. 0. 0. 0. 0. 0.\n",
      " 0. 0. 0. 0. 0. 0. 0. 0. 0. 0. 0. 0. 0. 0. 0. 0. 1. 0.]\n"
     ]
    }
   ],
   "source": [
    "isFraud = np.zeros(len(dataset))\n",
    "for i in range(len(dataset)):\n",
    "    if dataset.iloc[i,0] in frauds:\n",
    "        isFraud[i] = 1\n",
    "print(isFraud)"
   ]
  },
  {
   "cell_type": "markdown",
   "metadata": {
    "colab_type": "text",
    "id": "OgQBLi0iBsji"
   },
   "source": [
    "#Part 3 - ANN"
   ]
  },
  {
   "cell_type": "markdown",
   "metadata": {
    "colab_type": "text",
    "id": "RE_FcHyfV3TQ"
   },
   "source": [
    "### Feature Scaling"
   ]
  },
  {
   "cell_type": "code",
   "execution_count": 12,
   "metadata": {
    "colab": {},
    "colab_type": "code",
    "id": "ViCrE00rV8Sk"
   },
   "outputs": [],
   "source": [
    "from sklearn.preprocessing import StandardScaler\n",
    "sc = StandardScaler()\n",
    "customers = sc.fit_transform(customers)"
   ]
  },
  {
   "cell_type": "markdown",
   "metadata": {
    "colab_type": "text",
    "id": "-zfEzkRVXIwF"
   },
   "source": [
    "## Building the ANN"
   ]
  },
  {
   "cell_type": "markdown",
   "metadata": {
    "colab_type": "text",
    "id": "S5-uTVVvCcTf"
   },
   "source": [
    "##Import Tensorflow"
   ]
  },
  {
   "cell_type": "code",
   "execution_count": 13,
   "metadata": {
    "colab": {
     "base_uri": "https://localhost:8080/",
     "height": 34
    },
    "colab_type": "code",
    "id": "veBa6HoECbZI",
    "outputId": "bec46426-fda2-40fd-832c-09b6a44001a9"
   },
   "outputs": [
    {
     "name": "stdout",
     "output_type": "stream",
     "text": [
      "2.2.0\n"
     ]
    }
   ],
   "source": [
    "import tensorflow as tf\n",
    "from keras.models import Sequential\n",
    "from keras.layers import Dense\n",
    "print(tf.__version__)"
   ]
  },
  {
   "cell_type": "markdown",
   "metadata": {
    "colab_type": "text",
    "id": "KvdeScabXtlB"
   },
   "source": [
    "## Initializing the ANN"
   ]
  },
  {
   "cell_type": "code",
   "execution_count": 14,
   "metadata": {
    "colab": {},
    "colab_type": "code",
    "id": "3dtrScHxXQox"
   },
   "outputs": [],
   "source": [
    "classifier = Sequential()"
   ]
  },
  {
   "cell_type": "markdown",
   "metadata": {
    "colab_type": "text",
    "id": "rP6urV6SX7kS"
   },
   "source": [
    "##Adding the input layer and the first hidden layer"
   ]
  },
  {
   "cell_type": "code",
   "execution_count": 15,
   "metadata": {
    "colab": {},
    "colab_type": "code",
    "id": "bppGycBXYCQr"
   },
   "outputs": [],
   "source": [
    "classifier.add(Dense(units=2, kernel_initializer = 'uniform', activation = 'relu', input_dim=15))\n"
   ]
  },
  {
   "cell_type": "markdown",
   "metadata": {
    "colab_type": "text",
    "id": "OyNEe6RXYcU4"
   },
   "source": [
    "## Adding the output layer"
   ]
  },
  {
   "cell_type": "code",
   "execution_count": 16,
   "metadata": {
    "colab": {},
    "colab_type": "code",
    "id": "Cn3x41RBYfvY"
   },
   "outputs": [],
   "source": [
    "classifier.add(Dense(units=1, activation = 'sigmoid'))"
   ]
  },
  {
   "cell_type": "markdown",
   "metadata": {
    "colab_type": "text",
    "id": "JT4u2S1_Y4WG"
   },
   "source": [
    "## Training the ANN"
   ]
  },
  {
   "cell_type": "markdown",
   "metadata": {
    "colab_type": "text",
    "id": "8GWlJChhY_ZI"
   },
   "source": [
    "## Compiling the ANN"
   ]
  },
  {
   "cell_type": "code",
   "execution_count": 17,
   "metadata": {
    "colab": {},
    "colab_type": "code",
    "id": "fG3RrwDXZEaS"
   },
   "outputs": [],
   "source": [
    "classifier.compile(optimizer='adam', loss='binary_crossentropy', metrics=['accuracy'])"
   ]
  },
  {
   "cell_type": "markdown",
   "metadata": {
    "colab_type": "text",
    "id": "0QR_G5u7ZLSM"
   },
   "source": [
    "## Training the ANN on the Training set"
   ]
  },
  {
   "cell_type": "code",
   "execution_count": 18,
   "metadata": {
    "colab": {
     "base_uri": "https://localhost:8080/",
     "height": 374
    },
    "colab_type": "code",
    "id": "nHZ-LKv_ZRb3",
    "outputId": "b9f6c5ec-47ae-4ebf-868b-d72ed3c02996"
   },
   "outputs": [
    {
     "name": "stdout",
     "output_type": "stream",
     "text": [
      "Epoch 1/2\n",
      "690/690 [==============================] - 1s 1ms/step - loss: 0.6003 - accuracy: 0.8812: 0s - loss: 0.650\n",
      "Epoch 2/2\n",
      "690/690 [==============================] - 1s 1ms/step - loss: 0.4666 - accuracy: 0.9043\n"
     ]
    },
    {
     "data": {
      "text/plain": [
       "<tensorflow.python.keras.callbacks.History at 0x7fb72e87adc0>"
      ]
     },
     "execution_count": 18,
     "metadata": {},
     "output_type": "execute_result"
    }
   ],
   "source": [
    "classifier.fit(customers,isFraud,batch_size=1,epochs=2)"
   ]
  },
  {
   "cell_type": "markdown",
   "metadata": {
    "colab_type": "text",
    "id": "tJj5k2MxZga3"
   },
   "source": [
    "## Predicting test set results"
   ]
  },
  {
   "cell_type": "code",
   "execution_count": 19,
   "metadata": {
    "colab": {},
    "colab_type": "code",
    "id": "nIyEeQdRZwgs"
   },
   "outputs": [
    {
     "name": "stdout",
     "output_type": "stream",
     "text": [
      "[[0.29037946]\n",
      " [0.2913233 ]\n",
      " [0.29037946]\n",
      " [0.32145277]\n",
      " [0.31432873]\n",
      " [0.36468282]\n",
      " [0.29037946]\n",
      " [0.3812749 ]\n",
      " [0.29037946]\n",
      " [0.31072754]\n",
      " [0.29037946]\n",
      " [0.29037946]\n",
      " [0.29037946]\n",
      " [0.29037946]\n",
      " [0.29037946]\n",
      " [0.29037946]\n",
      " [0.29037946]\n",
      " [0.3631236 ]\n",
      " [0.29037946]\n",
      " [0.36703157]\n",
      " [0.29037946]\n",
      " [0.29037946]\n",
      " [0.29037946]\n",
      " [0.29037946]\n",
      " [0.29037946]\n",
      " [0.29037946]\n",
      " [0.29037946]\n",
      " [0.29037946]\n",
      " [0.36129868]\n",
      " [0.29037946]\n",
      " [0.29037946]\n",
      " [0.29037946]\n",
      " [0.29037946]\n",
      " [0.29037946]\n",
      " [0.29037946]\n",
      " [0.29037946]\n",
      " [0.29037946]\n",
      " [0.29037946]\n",
      " [0.32616246]\n",
      " [0.300027  ]\n",
      " [0.29037946]\n",
      " [0.29037946]\n",
      " [0.2905658 ]\n",
      " [0.29037946]\n",
      " [0.29037946]\n",
      " [0.3254295 ]\n",
      " [0.29037946]\n",
      " [0.29037946]\n",
      " [0.29037946]\n",
      " [0.38447902]\n",
      " [0.29037946]\n",
      " [0.29037946]\n",
      " [0.29037946]\n",
      " [0.29037946]\n",
      " [0.29037946]\n",
      " [0.29037946]\n",
      " [0.31178522]\n",
      " [0.2915094 ]\n",
      " [0.29037946]\n",
      " [0.29037946]\n",
      " [0.29037946]\n",
      " [0.29037946]\n",
      " [0.29831803]\n",
      " [0.29037946]\n",
      " [0.32521516]\n",
      " [0.32749557]\n",
      " [0.29037946]\n",
      " [0.29037946]\n",
      " [0.29037946]\n",
      " [0.29037946]\n",
      " [0.29037946]\n",
      " [0.33860615]\n",
      " [0.29037946]\n",
      " [0.29037946]\n",
      " [0.33036226]\n",
      " [0.29037946]\n",
      " [0.29037946]\n",
      " [0.29037946]\n",
      " [0.29037946]\n",
      " [0.36994594]\n",
      " [0.3205237 ]\n",
      " [0.32254565]\n",
      " [0.29207253]\n",
      " [0.29037946]\n",
      " [0.29037946]\n",
      " [0.29037946]\n",
      " [0.3010941 ]\n",
      " [0.3311596 ]\n",
      " [0.29037946]\n",
      " [0.29037946]\n",
      " [0.29037946]\n",
      " [0.29037946]\n",
      " [0.29037946]\n",
      " [0.31507015]\n",
      " [0.2906008 ]\n",
      " [0.29037946]\n",
      " [0.29465795]\n",
      " [0.29037946]\n",
      " [0.29365426]\n",
      " [0.3625342 ]\n",
      " [0.29037946]\n",
      " [0.29037946]\n",
      " [0.29037946]\n",
      " [0.2945618 ]\n",
      " [0.29037946]\n",
      " [0.29479706]\n",
      " [0.32147115]\n",
      " [0.29037946]\n",
      " [0.29812515]\n",
      " [0.29037946]\n",
      " [0.29037946]\n",
      " [0.29037946]\n",
      " [0.29037946]\n",
      " [0.36496317]\n",
      " [0.29037946]\n",
      " [0.29037946]\n",
      " [0.33381808]\n",
      " [0.29037946]\n",
      " [0.29037946]\n",
      " [0.31482613]\n",
      " [0.31458652]\n",
      " [0.29037946]\n",
      " [0.29037946]\n",
      " [0.3849066 ]\n",
      " [0.33083552]\n",
      " [0.29037946]\n",
      " [0.38407803]\n",
      " [0.29037946]\n",
      " [0.32461974]\n",
      " [0.29037946]\n",
      " [0.3273546 ]\n",
      " [0.29037946]\n",
      " [0.29037946]\n",
      " [0.29060638]\n",
      " [0.29037946]\n",
      " [0.29162616]\n",
      " [0.29037946]\n",
      " [0.31196094]\n",
      " [0.29037946]\n",
      " [0.31316948]\n",
      " [0.29037946]\n",
      " [0.29037946]\n",
      " [0.29037946]\n",
      " [0.29371274]\n",
      " [0.3236618 ]\n",
      " [0.4049063 ]\n",
      " [0.29335797]\n",
      " [0.29098433]\n",
      " [0.29037946]\n",
      " [0.39862734]\n",
      " [0.29037946]\n",
      " [0.29037946]\n",
      " [0.29037946]\n",
      " [0.29037946]\n",
      " [0.32466346]\n",
      " [0.29037946]\n",
      " [0.29037946]\n",
      " [0.29037946]\n",
      " [0.29899988]\n",
      " [0.29037946]\n",
      " [0.29037946]\n",
      " [0.29037946]\n",
      " [0.29037946]\n",
      " [0.29037946]\n",
      " [0.29037946]\n",
      " [0.29037946]\n",
      " [0.29037946]\n",
      " [0.30334973]\n",
      " [0.29037946]\n",
      " [0.29037946]\n",
      " [0.30017537]\n",
      " [0.31580478]\n",
      " [0.29037946]\n",
      " [0.29037946]\n",
      " [0.31874663]\n",
      " [0.29037946]\n",
      " [0.29037946]\n",
      " [0.29037946]\n",
      " [0.31009763]\n",
      " [0.29037946]\n",
      " [0.29037946]\n",
      " [0.2960839 ]\n",
      " [0.31078696]\n",
      " [0.29037946]\n",
      " [0.29037946]\n",
      " [0.29037946]\n",
      " [0.29037946]\n",
      " [0.29037946]\n",
      " [0.29037946]\n",
      " [0.31516483]\n",
      " [0.29037946]\n",
      " [0.29037946]\n",
      " [0.29037946]\n",
      " [0.29037946]\n",
      " [0.29037946]\n",
      " [0.31543267]\n",
      " [0.38286775]\n",
      " [0.29037946]\n",
      " [0.3077696 ]\n",
      " [0.29037946]\n",
      " [0.3780864 ]\n",
      " [0.29037946]\n",
      " [0.29037946]\n",
      " [0.29037946]\n",
      " [0.38598892]\n",
      " [0.29885128]\n",
      " [0.29037946]\n",
      " [0.31836203]\n",
      " [0.29037946]\n",
      " [0.29037946]\n",
      " [0.34542066]\n",
      " [0.29037946]\n",
      " [0.29037946]\n",
      " [0.29037946]\n",
      " [0.29037946]\n",
      " [0.3771756 ]\n",
      " [0.29037946]\n",
      " [0.29037946]\n",
      " [0.29037946]\n",
      " [0.29037946]\n",
      " [0.32910305]\n",
      " [0.29037946]\n",
      " [0.29037946]\n",
      " [0.29037946]\n",
      " [0.29037946]\n",
      " [0.29037946]\n",
      " [0.29037946]\n",
      " [0.29037946]\n",
      " [0.29037946]\n",
      " [0.32813904]\n",
      " [0.36235714]\n",
      " [0.29037946]\n",
      " [0.29037946]\n",
      " [0.33045536]\n",
      " [0.346013  ]\n",
      " [0.37832537]\n",
      " [0.29037946]\n",
      " [0.29689717]\n",
      " [0.29037946]\n",
      " [0.29037946]\n",
      " [0.35379466]\n",
      " [0.30228794]\n",
      " [0.29037946]\n",
      " [0.29037946]\n",
      " [0.29037946]\n",
      " [0.29037946]\n",
      " [0.29037946]\n",
      " [0.29037946]\n",
      " [0.29037946]\n",
      " [0.29037946]\n",
      " [0.29037946]\n",
      " [0.29037946]\n",
      " [0.29037946]\n",
      " [0.29037946]\n",
      " [0.34523785]\n",
      " [0.30149055]\n",
      " [0.29037946]\n",
      " [0.29037946]\n",
      " [0.29037946]\n",
      " [0.29037946]\n",
      " [0.29037946]\n",
      " [0.29037946]\n",
      " [0.29037946]\n",
      " [0.29037946]\n",
      " [0.30227447]\n",
      " [0.29037946]\n",
      " [0.29037946]\n",
      " [0.29037946]\n",
      " [0.29037946]\n",
      " [0.29037946]\n",
      " [0.29759365]\n",
      " [0.29037946]\n",
      " [0.29037946]\n",
      " [0.33362275]\n",
      " [0.31033486]\n",
      " [0.29037946]\n",
      " [0.29037946]\n",
      " [0.29037946]\n",
      " [0.3171314 ]\n",
      " [0.32440197]\n",
      " [0.29037946]\n",
      " [0.29037946]\n",
      " [0.29037946]\n",
      " [0.29037946]\n",
      " [0.29037946]\n",
      " [0.29037946]\n",
      " [0.29037946]\n",
      " [0.29037946]\n",
      " [0.29037946]\n",
      " [0.29037946]\n",
      " [0.29037946]\n",
      " [0.29037946]\n",
      " [0.3027978 ]\n",
      " [0.29037946]\n",
      " [0.29037946]\n",
      " [0.29037946]\n",
      " [0.29037946]\n",
      " [0.29037946]\n",
      " [0.29037946]\n",
      " [0.29037946]\n",
      " [0.29037946]\n",
      " [0.29037946]\n",
      " [0.29037946]\n",
      " [0.29037946]\n",
      " [0.29135394]\n",
      " [0.29037946]\n",
      " [0.29037946]\n",
      " [0.29037946]\n",
      " [0.29037946]\n",
      " [0.29037946]\n",
      " [0.29037946]\n",
      " [0.29037946]\n",
      " [0.2929179 ]\n",
      " [0.3748979 ]\n",
      " [0.29037946]\n",
      " [0.29037946]\n",
      " [0.29037946]\n",
      " [0.32316986]\n",
      " [0.29037946]\n",
      " [0.36852852]\n",
      " [0.29037946]\n",
      " [0.29037946]\n",
      " [0.29037946]\n",
      " [0.29037946]\n",
      " [0.29037946]\n",
      " [0.30076703]\n",
      " [0.29037946]\n",
      " [0.29037946]\n",
      " [0.29037946]\n",
      " [0.29037946]\n",
      " [0.3687688 ]\n",
      " [0.29037946]\n",
      " [0.29037946]\n",
      " [0.29037946]\n",
      " [0.29037946]\n",
      " [0.29037946]\n",
      " [0.36937487]\n",
      " [0.29037946]\n",
      " [0.31864768]\n",
      " [0.29037946]\n",
      " [0.29037946]\n",
      " [0.29037946]\n",
      " [0.33053994]\n",
      " [0.30718172]\n",
      " [0.29037946]\n",
      " [0.310548  ]\n",
      " [0.31725895]\n",
      " [0.3788143 ]\n",
      " [0.29138112]\n",
      " [0.29037946]\n",
      " [0.32585418]\n",
      " [0.29037946]\n",
      " [0.29037946]\n",
      " [0.29037946]\n",
      " [0.29037946]\n",
      " [0.29037946]\n",
      " [0.29037946]\n",
      " [0.29037946]\n",
      " [0.30565414]\n",
      " [0.29037946]\n",
      " [0.29037946]\n",
      " [0.3258049 ]\n",
      " [0.29037946]\n",
      " [0.29037946]\n",
      " [0.29037946]\n",
      " [0.29037946]\n",
      " [0.29037946]\n",
      " [0.32048732]\n",
      " [0.31440344]\n",
      " [0.30087227]\n",
      " [0.3222481 ]\n",
      " [0.29037946]\n",
      " [0.29037946]\n",
      " [0.29037946]\n",
      " [0.29037946]\n",
      " [0.3885447 ]\n",
      " [0.29037946]\n",
      " [0.29037946]\n",
      " [0.29037946]\n",
      " [0.32071728]\n",
      " [0.29037946]\n",
      " [0.29037946]\n",
      " [0.29037946]\n",
      " [0.29037946]\n",
      " [0.3223987 ]\n",
      " [0.33060595]\n",
      " [0.29037946]\n",
      " [0.302266  ]\n",
      " [0.31106925]\n",
      " [0.36258045]\n",
      " [0.29037946]\n",
      " [0.29037946]\n",
      " [0.31284955]\n",
      " [0.37954992]\n",
      " [0.29623294]\n",
      " [0.29037946]\n",
      " [0.35577965]\n",
      " [0.29037946]\n",
      " [0.29037946]\n",
      " [0.29037946]\n",
      " [0.29037946]\n",
      " [0.29037946]\n",
      " [0.29037946]\n",
      " [0.29037946]\n",
      " [0.29037946]\n",
      " [0.305872  ]\n",
      " [0.2973897 ]\n",
      " [0.29037946]\n",
      " [0.315601  ]\n",
      " [0.29037946]\n",
      " [0.29037946]\n",
      " [0.29037946]\n",
      " [0.37977558]\n",
      " [0.29037946]\n",
      " [0.3252406 ]\n",
      " [0.29037946]\n",
      " [0.30107003]\n",
      " [0.32236636]\n",
      " [0.29037946]\n",
      " [0.3216158 ]\n",
      " [0.30514082]\n",
      " [0.29037946]\n",
      " [0.29037946]\n",
      " [0.3725141 ]\n",
      " [0.29037946]\n",
      " [0.29037946]\n",
      " [0.2968896 ]\n",
      " [0.29037946]\n",
      " [0.29037946]\n",
      " [0.29037946]\n",
      " [0.36118197]\n",
      " [0.29037946]\n",
      " [0.30505902]\n",
      " [0.29037946]\n",
      " [0.3239976 ]\n",
      " [0.29037946]\n",
      " [0.29037946]\n",
      " [0.29037946]\n",
      " [0.31107906]\n",
      " [0.29037946]\n",
      " [0.29037946]\n",
      " [0.29037946]\n",
      " [0.29037946]\n",
      " [0.29037946]\n",
      " [0.29037946]\n",
      " [0.29037946]\n",
      " [0.29108506]\n",
      " [0.29037946]\n",
      " [0.29037946]\n",
      " [0.29037946]\n",
      " [0.29037946]\n",
      " [0.29037946]\n",
      " [0.30266893]\n",
      " [0.29037946]\n",
      " [0.29037946]\n",
      " [0.29037946]\n",
      " [0.29037946]\n",
      " [0.32788622]\n",
      " [0.29037946]\n",
      " [0.31175005]\n",
      " [0.29037946]\n",
      " [0.2912624 ]\n",
      " [0.29037946]\n",
      " [0.30845666]\n",
      " [0.31703573]\n",
      " [0.29037946]\n",
      " [0.3304047 ]\n",
      " [0.29037946]\n",
      " [0.29037946]\n",
      " [0.29037946]\n",
      " [0.29037946]\n",
      " [0.32124615]\n",
      " [0.29037946]\n",
      " [0.29037946]\n",
      " [0.29037946]\n",
      " [0.29037946]\n",
      " [0.29037946]\n",
      " [0.2985437 ]\n",
      " [0.3036664 ]\n",
      " [0.29037946]\n",
      " [0.36821365]\n",
      " [0.29037946]\n",
      " [0.29037946]\n",
      " [0.29037946]\n",
      " [0.29037946]\n",
      " [0.29037946]\n",
      " [0.29037946]\n",
      " [0.3136359 ]\n",
      " [0.3228577 ]\n",
      " [0.29037946]\n",
      " [0.29037946]\n",
      " [0.30515662]\n",
      " [0.29037946]\n",
      " [0.303437  ]\n",
      " [0.29037946]\n",
      " [0.3007087 ]\n",
      " [0.29037946]\n",
      " [0.30912846]\n",
      " [0.29037946]\n",
      " [0.3039042 ]\n",
      " [0.29393855]\n",
      " [0.29037946]\n",
      " [0.29037946]\n",
      " [0.32345837]\n",
      " [0.29037946]\n",
      " [0.29037946]\n",
      " [0.29381508]\n",
      " [0.29037946]\n",
      " [0.29037946]\n",
      " [0.29037946]\n",
      " [0.29037946]\n",
      " [0.29037946]\n",
      " [0.29037946]\n",
      " [0.33155328]\n",
      " [0.29037946]\n",
      " [0.29037946]\n",
      " [0.3561424 ]\n",
      " [0.3641556 ]\n",
      " [0.29037946]\n",
      " [0.29037946]\n",
      " [0.29037946]\n",
      " [0.32820135]\n",
      " [0.29980084]\n",
      " [0.3611134 ]\n",
      " [0.3160484 ]\n",
      " [0.29037946]\n",
      " [0.29037946]\n",
      " [0.29037946]\n",
      " [0.29037946]\n",
      " [0.29037946]\n",
      " [0.29037946]\n",
      " [0.29241544]\n",
      " [0.29037946]\n",
      " [0.3067489 ]\n",
      " [0.29037946]\n",
      " [0.35823286]\n",
      " [0.29037946]\n",
      " [0.29037946]\n",
      " [0.38414824]\n",
      " [0.3072969 ]\n",
      " [0.29037946]\n",
      " [0.29037946]\n",
      " [0.29037946]\n",
      " [0.29037946]\n",
      " [0.29037946]\n",
      " [0.29037946]\n",
      " [0.29037946]\n",
      " [0.29037946]\n",
      " [0.29037946]\n",
      " [0.29037946]\n",
      " [0.29037946]\n",
      " [0.30739492]\n",
      " [0.29037946]\n",
      " [0.2954837 ]\n",
      " [0.29037946]\n",
      " [0.29037946]\n",
      " [0.29037946]\n",
      " [0.29037946]\n",
      " [0.29037946]\n",
      " [0.32429254]\n",
      " [0.29037946]\n",
      " [0.32020313]\n",
      " [0.29037946]\n",
      " [0.29037946]\n",
      " [0.29037946]\n",
      " [0.3242995 ]\n",
      " [0.3272208 ]\n",
      " [0.29037946]\n",
      " [0.29037946]\n",
      " [0.29037946]\n",
      " [0.29037946]\n",
      " [0.29037946]\n",
      " [0.29037946]\n",
      " [0.29037946]\n",
      " [0.29037946]\n",
      " [0.39119676]\n",
      " [0.29037946]\n",
      " [0.30656374]\n",
      " [0.33979458]\n",
      " [0.29037946]\n",
      " [0.29037946]\n",
      " [0.29037946]\n",
      " [0.3660388 ]\n",
      " [0.29037946]\n",
      " [0.29037946]\n",
      " [0.29037946]\n",
      " [0.2964931 ]\n",
      " [0.29084182]\n",
      " [0.29037946]\n",
      " [0.29037946]\n",
      " [0.29037946]\n",
      " [0.33000812]\n",
      " [0.29037946]\n",
      " [0.29037946]\n",
      " [0.29037946]\n",
      " [0.29037946]\n",
      " [0.29037946]\n",
      " [0.29037946]\n",
      " [0.29037946]\n",
      " [0.29037946]\n",
      " [0.29037946]\n",
      " [0.29037946]\n",
      " [0.32013643]\n",
      " [0.3851916 ]\n",
      " [0.3214364 ]\n",
      " [0.29037946]\n",
      " [0.29037946]\n",
      " [0.30972248]\n",
      " [0.29037946]\n",
      " [0.29037946]\n",
      " [0.31438345]\n",
      " [0.29037946]\n",
      " [0.29037946]\n",
      " [0.29037946]\n",
      " [0.31178647]\n",
      " [0.31276393]\n",
      " [0.2929796 ]\n",
      " [0.29037946]\n",
      " [0.29037946]\n",
      " [0.29566777]\n",
      " [0.29037946]\n",
      " [0.36916423]\n",
      " [0.36688393]\n",
      " [0.29037946]\n",
      " [0.29037946]\n",
      " [0.29037946]\n",
      " [0.29037946]\n",
      " [0.29037946]\n",
      " [0.32136607]\n",
      " [0.29037946]\n",
      " [0.29037946]\n",
      " [0.29037946]\n",
      " [0.32263482]\n",
      " [0.29037946]\n",
      " [0.29037946]\n",
      " [0.29037946]\n",
      " [0.29037946]\n",
      " [0.29037946]\n",
      " [0.29037946]\n",
      " [0.29037946]\n",
      " [0.29037946]\n",
      " [0.32159477]\n",
      " [0.29037946]\n",
      " [0.29037946]\n",
      " [0.29629114]\n",
      " [0.29037946]\n",
      " [0.29892352]\n",
      " [0.29037946]\n",
      " [0.29037946]\n",
      " [0.30828747]\n",
      " [0.29037946]\n",
      " [0.29037946]\n",
      " [0.29037946]\n",
      " [0.29037946]\n",
      " [0.29037946]\n",
      " [0.29037946]\n",
      " [0.29037946]\n",
      " [0.29037946]\n",
      " [0.29037946]\n",
      " [0.29037946]\n",
      " [0.29379416]\n",
      " [0.29037946]\n",
      " [0.29455483]\n",
      " [0.324167  ]\n",
      " [0.29037946]\n",
      " [0.29037946]\n",
      " [0.29037946]\n",
      " [0.29751533]\n",
      " [0.29037946]\n",
      " [0.29037946]\n",
      " [0.29037946]\n",
      " [0.29037946]\n",
      " [0.29054397]\n",
      " [0.29037946]\n",
      " [0.29037946]\n",
      " [0.29037946]\n",
      " [0.29037946]\n",
      " [0.29037946]\n",
      " [0.29037946]\n",
      " [0.29329488]\n",
      " [0.29037946]\n",
      " [0.29037946]\n",
      " [0.3360843 ]\n",
      " [0.29942793]\n",
      " [0.31335378]\n",
      " [0.29037946]\n",
      " [0.29037946]\n",
      " [0.32697245]\n",
      " [0.3798814 ]\n",
      " [0.29037943]]\n"
     ]
    }
   ],
   "source": [
    "y_pred = classifier.predict(customers)\n",
    "print(y_pred)"
   ]
  },
  {
   "cell_type": "code",
   "execution_count": 20,
   "metadata": {
    "colab": {},
    "colab_type": "code",
    "id": "fX2iDXYiD-sN"
   },
   "outputs": [
    {
     "data": {
      "text/plain": [
       "array([[1.55924120e+07, 2.90379435e-01],\n",
       "       [1.56875270e+07, 2.90379465e-01],\n",
       "       [1.57610470e+07, 2.90379465e-01],\n",
       "       ...,\n",
       "       [1.57783450e+07, 3.91196758e-01],\n",
       "       [1.55988020e+07, 3.98627341e-01],\n",
       "       [1.55775150e+07, 4.04906303e-01]])"
      ]
     },
     "execution_count": 20,
     "metadata": {},
     "output_type": "execute_result"
    }
   ],
   "source": [
    "y_pred = np.concatenate((dataset.iloc[:,0:1].values, y_pred), axis = 1)\n",
    "y_pred = y_pred[y_pred[:, 1].argsort()]\n",
    "y_pred"
   ]
  },
  {
   "cell_type": "code",
   "execution_count": null,
   "metadata": {},
   "outputs": [],
   "source": []
  }
 ],
 "metadata": {
  "colab": {
   "collapsed_sections": [],
   "name": "Mega_Case_Study.ipynb",
   "provenance": [],
   "toc_visible": true
  },
  "kernelspec": {
   "display_name": "Python 3",
   "language": "python",
   "name": "python3"
  },
  "language_info": {
   "codemirror_mode": {
    "name": "ipython",
    "version": 3
   },
   "file_extension": ".py",
   "mimetype": "text/x-python",
   "name": "python",
   "nbconvert_exporter": "python",
   "pygments_lexer": "ipython3",
   "version": "3.8.1"
  }
 },
 "nbformat": 4,
 "nbformat_minor": 1
}
