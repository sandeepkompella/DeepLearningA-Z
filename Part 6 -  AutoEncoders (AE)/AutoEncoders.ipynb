{
 "cells": [
  {
   "cell_type": "markdown",
   "metadata": {
    "colab_type": "text",
    "id": "K4f4JG1gdKqj"
   },
   "source": [
    "#AutoEncoders"
   ]
  },
  {
   "cell_type": "markdown",
   "metadata": {
    "colab_type": "text",
    "id": "1jbiqOK7dLGG"
   },
   "source": [
    "##Downloading the dataset"
   ]
  },
  {
   "cell_type": "markdown",
   "metadata": {
    "colab_type": "text",
    "id": "XL5MEkLcfRD2"
   },
   "source": [
    "###ML-100K"
   ]
  },
  {
   "cell_type": "code",
   "execution_count": 1,
   "metadata": {
    "colab": {
     "base_uri": "https://localhost:8080/",
     "height": 646
    },
    "colab_type": "code",
    "id": "rjOPzue7FCXJ",
    "outputId": "b0f0b631-51bf-49e8-9ad6-947a0bd3d832"
   },
   "outputs": [],
   "source": [
    "#!wget \"http://files.grouplens.org/datasets/movielens/ml-100k.zip\"\n",
    "#!unzip ml-100k.zip\n",
    "#!ls"
   ]
  },
  {
   "cell_type": "markdown",
   "metadata": {
    "colab_type": "text",
    "id": "9Xis6ldDfTs6"
   },
   "source": [
    "###ML-1M"
   ]
  },
  {
   "cell_type": "code",
   "execution_count": 2,
   "metadata": {
    "colab": {
     "base_uri": "https://localhost:8080/",
     "height": 323
    },
    "colab_type": "code",
    "id": "LOly1yfAfTjd",
    "outputId": "519b7fb3-4f15-4a0b-91d5-8221ee486409"
   },
   "outputs": [],
   "source": [
    "#!wget \"http://files.grouplens.org/datasets/movielens/ml-1m.zip\"\n",
    "#!unzip ml-1m.zip\n",
    "#!ls"
   ]
  },
  {
   "cell_type": "markdown",
   "metadata": {
    "colab_type": "text",
    "id": "EOBJ8UCXdY0g"
   },
   "source": [
    "##Importing the libraries"
   ]
  },
  {
   "cell_type": "code",
   "execution_count": 3,
   "metadata": {
    "colab": {},
    "colab_type": "code",
    "id": "_LvGeU1CeCtg"
   },
   "outputs": [],
   "source": [
    "import numpy as np\n",
    "import pandas as pd\n",
    "import torch\n",
    "import torch.nn as nn\n",
    "import torch.nn.parallel\n",
    "import torch.optim as optim\n",
    "import torch.utils.data\n",
    "from torch.autograd import Variable"
   ]
  },
  {
   "cell_type": "markdown",
   "metadata": {
    "colab_type": "text",
    "id": "pM04FyMudkoK"
   },
   "source": [
    "## Importing the dataset\n"
   ]
  },
  {
   "cell_type": "code",
   "execution_count": 4,
   "metadata": {
    "colab": {},
    "colab_type": "code",
    "id": "UJw2p3-Cewo4"
   },
   "outputs": [],
   "source": [
    "# We won't be using this dataset.\n",
    "movies = pd.read_csv('ml-1m/movies.dat', sep = '::', header = None, engine = 'python', encoding = 'latin-1')\n",
    "users = pd.read_csv('ml-1m/users.dat', sep = '::', header = None, engine = 'python', encoding = 'latin-1')\n",
    "ratings = pd.read_csv('ml-1m/ratings.dat', sep = '::', header = None, engine = 'python', encoding = 'latin-1')"
   ]
  },
  {
   "cell_type": "markdown",
   "metadata": {
    "colab_type": "text",
    "id": "yTIbE2tkdkwP"
   },
   "source": [
    "## Preparing the training set and the test set\n"
   ]
  },
  {
   "cell_type": "code",
   "execution_count": 5,
   "metadata": {
    "colab": {},
    "colab_type": "code",
    "id": "2usLKJBEgPE2"
   },
   "outputs": [],
   "source": [
    "training_set = pd.read_csv('ml-100k/u1.base', delimiter = '\\t')\n",
    "training_set = np.array(training_set, dtype = 'int')\n",
    "test_set = pd.read_csv('ml-100k/u1.test', delimiter = '\\t')\n",
    "test_set = np.array(test_set, dtype = 'int')"
   ]
  },
  {
   "cell_type": "markdown",
   "metadata": {
    "colab_type": "text",
    "id": "zCf8HjSydk4s"
   },
   "source": [
    "## Getting the number of users and movies\n"
   ]
  },
  {
   "cell_type": "code",
   "execution_count": 6,
   "metadata": {
    "colab": {},
    "colab_type": "code",
    "id": "gPaGZqdniC5m"
   },
   "outputs": [],
   "source": [
    "nb_users = int(max(max(training_set[:, 0], ), max(test_set[:, 0])))\n",
    "nb_movies = int(max(max(training_set[:, 1], ), max(test_set[:, 1])))"
   ]
  },
  {
   "cell_type": "markdown",
   "metadata": {
    "colab_type": "text",
    "id": "J-w4-hVidlAm"
   },
   "source": [
    "## Converting the data into an array with users in lines and movies in columns\n"
   ]
  },
  {
   "cell_type": "code",
   "execution_count": 7,
   "metadata": {
    "colab": {},
    "colab_type": "code",
    "id": "-wASs2YFiDaa"
   },
   "outputs": [],
   "source": [
    "def convert(data):\n",
    "  new_data = []\n",
    "  for id_users in range(1, nb_users + 1):\n",
    "    id_movies = data[:, 1] [data[:, 0] == id_users]\n",
    "    id_ratings = data[:, 2] [data[:, 0] == id_users]\n",
    "    ratings = np.zeros(nb_movies)\n",
    "    ratings[id_movies - 1] = id_ratings\n",
    "    new_data.append(list(ratings))\n",
    "  return new_data\n",
    "training_set = convert(training_set)\n",
    "test_set = convert(test_set)"
   ]
  },
  {
   "cell_type": "markdown",
   "metadata": {
    "colab_type": "text",
    "id": "AMmhuUpldlHo"
   },
   "source": [
    "## Converting the data into Torch tensors\n"
   ]
  },
  {
   "cell_type": "code",
   "execution_count": 8,
   "metadata": {
    "colab": {},
    "colab_type": "code",
    "id": "TwD-KD8yiEEw"
   },
   "outputs": [],
   "source": [
    "training_set = torch.FloatTensor(training_set)\n",
    "test_set = torch.FloatTensor(test_set)"
   ]
  },
  {
   "cell_type": "markdown",
   "metadata": {
    "colab_type": "text",
    "id": "6kkL8NkkdlZj"
   },
   "source": [
    "## Creating the architecture of the Neural Network\n"
   ]
  },
  {
   "cell_type": "code",
   "execution_count": 9,
   "metadata": {
    "colab": {},
    "colab_type": "code",
    "id": "oU2nyh76iE6M"
   },
   "outputs": [],
   "source": [
    "class SAE(nn.Module):\n",
    "    def __init__(self, ):\n",
    "        super(SAE, self).__init__()\n",
    "        self.fc1 = nn.Linear(nb_movies, 20)\n",
    "        self.fc2 = nn.Linear(20, 10)\n",
    "        self.fc3 = nn.Linear(10, 20)\n",
    "        self.fc4 = nn.Linear(20, nb_movies)\n",
    "        self.activation = nn.Sigmoid()\n",
    "    def forward(self, x):\n",
    "        x = self.activation(self.fc1(x))\n",
    "        x = self.activation(self.fc2(x))\n",
    "        x = self.activation(self.fc3(x))\n",
    "        x = self.fc4(x)\n",
    "        return x\n",
    "sae = SAE()\n",
    "criterion = nn.MSELoss()\n",
    "optimizer = optim.RMSprop(sae.parameters(), lr = 0.01, weight_decay = 0.5)"
   ]
  },
  {
   "cell_type": "markdown",
   "metadata": {
    "colab_type": "text",
    "id": "7gy59alAdloL"
   },
   "source": [
    "## Training the SAE\n"
   ]
  },
  {
   "cell_type": "code",
   "execution_count": 10,
   "metadata": {
    "colab": {
     "base_uri": "https://localhost:8080/",
     "height": 1000
    },
    "colab_type": "code",
    "id": "FEz9hRaciFTs",
    "outputId": "0f6ed0d0-09c4-46c0-bfe6-70031d76b491"
   },
   "outputs": [
    {
     "name": "stdout",
     "output_type": "stream",
     "text": [
      "epoch: 1 loss: tensor(1.7714)\n",
      "epoch: 2 loss: tensor(1.0965)\n",
      "epoch: 3 loss: tensor(1.0537)\n",
      "epoch: 4 loss: tensor(1.0384)\n",
      "epoch: 5 loss: tensor(1.0312)\n",
      "epoch: 6 loss: tensor(1.0267)\n",
      "epoch: 7 loss: tensor(1.0240)\n",
      "epoch: 8 loss: tensor(1.0218)\n",
      "epoch: 9 loss: tensor(1.0209)\n",
      "epoch: 10 loss: tensor(1.0197)\n",
      "epoch: 11 loss: tensor(1.0188)\n",
      "epoch: 12 loss: tensor(1.0183)\n",
      "epoch: 13 loss: tensor(1.0179)\n",
      "epoch: 14 loss: tensor(1.0175)\n",
      "epoch: 15 loss: tensor(1.0172)\n",
      "epoch: 16 loss: tensor(1.0169)\n",
      "epoch: 17 loss: tensor(1.0166)\n",
      "epoch: 18 loss: tensor(1.0168)\n",
      "epoch: 19 loss: tensor(1.0164)\n",
      "epoch: 20 loss: tensor(1.0160)\n",
      "epoch: 21 loss: tensor(1.0161)\n",
      "epoch: 22 loss: tensor(1.0160)\n",
      "epoch: 23 loss: tensor(1.0158)\n",
      "epoch: 24 loss: tensor(1.0160)\n",
      "epoch: 25 loss: tensor(1.0155)\n",
      "epoch: 26 loss: tensor(1.0154)\n",
      "epoch: 27 loss: tensor(1.0153)\n",
      "epoch: 28 loss: tensor(1.0151)\n",
      "epoch: 29 loss: tensor(1.0125)\n",
      "epoch: 30 loss: tensor(1.0113)\n",
      "epoch: 31 loss: tensor(1.0097)\n",
      "epoch: 32 loss: tensor(1.0093)\n",
      "epoch: 33 loss: tensor(1.0052)\n",
      "epoch: 34 loss: tensor(1.0045)\n",
      "epoch: 35 loss: tensor(1.0011)\n",
      "epoch: 36 loss: tensor(1.0007)\n",
      "epoch: 37 loss: tensor(0.9974)\n",
      "epoch: 38 loss: tensor(0.9963)\n",
      "epoch: 39 loss: tensor(0.9931)\n",
      "epoch: 40 loss: tensor(0.9899)\n",
      "epoch: 41 loss: tensor(0.9870)\n",
      "epoch: 42 loss: tensor(0.9877)\n",
      "epoch: 43 loss: tensor(0.9846)\n",
      "epoch: 44 loss: tensor(0.9839)\n",
      "epoch: 45 loss: tensor(0.9844)\n",
      "epoch: 46 loss: tensor(0.9836)\n",
      "epoch: 47 loss: tensor(0.9814)\n",
      "epoch: 48 loss: tensor(0.9769)\n",
      "epoch: 49 loss: tensor(0.9712)\n",
      "epoch: 50 loss: tensor(0.9731)\n",
      "epoch: 51 loss: tensor(0.9724)\n",
      "epoch: 52 loss: tensor(0.9684)\n",
      "epoch: 53 loss: tensor(0.9669)\n",
      "epoch: 54 loss: tensor(0.9732)\n",
      "epoch: 55 loss: tensor(0.9692)\n",
      "epoch: 56 loss: tensor(0.9674)\n",
      "epoch: 57 loss: tensor(0.9703)\n",
      "epoch: 58 loss: tensor(0.9805)\n",
      "epoch: 59 loss: tensor(0.9699)\n",
      "epoch: 60 loss: tensor(0.9755)\n",
      "epoch: 61 loss: tensor(0.9728)\n",
      "epoch: 62 loss: tensor(0.9738)\n",
      "epoch: 63 loss: tensor(0.9701)\n",
      "epoch: 64 loss: tensor(0.9685)\n",
      "epoch: 65 loss: tensor(0.9646)\n",
      "epoch: 66 loss: tensor(0.9616)\n",
      "epoch: 67 loss: tensor(0.9647)\n",
      "epoch: 68 loss: tensor(0.9632)\n",
      "epoch: 69 loss: tensor(0.9582)\n",
      "epoch: 70 loss: tensor(0.9672)\n",
      "epoch: 71 loss: tensor(0.9679)\n",
      "epoch: 72 loss: tensor(0.9714)\n",
      "epoch: 73 loss: tensor(0.9657)\n",
      "epoch: 74 loss: tensor(0.9663)\n",
      "epoch: 75 loss: tensor(0.9657)\n",
      "epoch: 76 loss: tensor(0.9631)\n",
      "epoch: 77 loss: tensor(0.9614)\n",
      "epoch: 78 loss: tensor(0.9627)\n",
      "epoch: 79 loss: tensor(0.9641)\n",
      "epoch: 80 loss: tensor(0.9621)\n",
      "epoch: 81 loss: tensor(0.9628)\n",
      "epoch: 82 loss: tensor(0.9626)\n",
      "epoch: 83 loss: tensor(0.9612)\n",
      "epoch: 84 loss: tensor(0.9584)\n",
      "epoch: 85 loss: tensor(0.9560)\n",
      "epoch: 86 loss: tensor(0.9559)\n",
      "epoch: 87 loss: tensor(0.9551)\n",
      "epoch: 88 loss: tensor(0.9552)\n",
      "epoch: 89 loss: tensor(0.9529)\n",
      "epoch: 90 loss: tensor(0.9524)\n",
      "epoch: 91 loss: tensor(0.9504)\n",
      "epoch: 92 loss: tensor(0.9494)\n",
      "epoch: 93 loss: tensor(0.9490)\n",
      "epoch: 94 loss: tensor(0.9488)\n",
      "epoch: 95 loss: tensor(0.9486)\n",
      "epoch: 96 loss: tensor(0.9506)\n",
      "epoch: 97 loss: tensor(0.9504)\n",
      "epoch: 98 loss: tensor(0.9488)\n",
      "epoch: 99 loss: tensor(0.9462)\n",
      "epoch: 100 loss: tensor(0.9461)\n",
      "epoch: 101 loss: tensor(0.9446)\n",
      "epoch: 102 loss: tensor(0.9466)\n",
      "epoch: 103 loss: tensor(0.9459)\n",
      "epoch: 104 loss: tensor(0.9451)\n",
      "epoch: 105 loss: tensor(0.9442)\n",
      "epoch: 106 loss: tensor(0.9427)\n",
      "epoch: 107 loss: tensor(0.9404)\n",
      "epoch: 108 loss: tensor(0.9415)\n",
      "epoch: 109 loss: tensor(0.9387)\n",
      "epoch: 110 loss: tensor(0.9395)\n",
      "epoch: 111 loss: tensor(0.9377)\n",
      "epoch: 112 loss: tensor(0.9381)\n",
      "epoch: 113 loss: tensor(0.9368)\n",
      "epoch: 114 loss: tensor(0.9376)\n",
      "epoch: 115 loss: tensor(0.9355)\n",
      "epoch: 116 loss: tensor(0.9363)\n",
      "epoch: 117 loss: tensor(0.9349)\n",
      "epoch: 118 loss: tensor(0.9356)\n",
      "epoch: 119 loss: tensor(0.9342)\n",
      "epoch: 120 loss: tensor(0.9348)\n",
      "epoch: 121 loss: tensor(0.9332)\n",
      "epoch: 122 loss: tensor(0.9338)\n",
      "epoch: 123 loss: tensor(0.9316)\n",
      "epoch: 124 loss: tensor(0.9322)\n",
      "epoch: 125 loss: tensor(0.9313)\n",
      "epoch: 126 loss: tensor(0.9324)\n",
      "epoch: 127 loss: tensor(0.9305)\n",
      "epoch: 128 loss: tensor(0.9313)\n",
      "epoch: 129 loss: tensor(0.9299)\n",
      "epoch: 130 loss: tensor(0.9307)\n",
      "epoch: 131 loss: tensor(0.9292)\n",
      "epoch: 132 loss: tensor(0.9298)\n",
      "epoch: 133 loss: tensor(0.9284)\n",
      "epoch: 134 loss: tensor(0.9294)\n",
      "epoch: 135 loss: tensor(0.9285)\n",
      "epoch: 136 loss: tensor(0.9284)\n",
      "epoch: 137 loss: tensor(0.9272)\n",
      "epoch: 138 loss: tensor(0.9275)\n",
      "epoch: 139 loss: tensor(0.9267)\n",
      "epoch: 140 loss: tensor(0.9273)\n",
      "epoch: 141 loss: tensor(0.9263)\n",
      "epoch: 142 loss: tensor(0.9267)\n",
      "epoch: 143 loss: tensor(0.9255)\n",
      "epoch: 144 loss: tensor(0.9260)\n",
      "epoch: 145 loss: tensor(0.9246)\n",
      "epoch: 146 loss: tensor(0.9256)\n",
      "epoch: 147 loss: tensor(0.9242)\n",
      "epoch: 148 loss: tensor(0.9251)\n",
      "epoch: 149 loss: tensor(0.9238)\n",
      "epoch: 150 loss: tensor(0.9249)\n",
      "epoch: 151 loss: tensor(0.9234)\n",
      "epoch: 152 loss: tensor(0.9241)\n",
      "epoch: 153 loss: tensor(0.9229)\n",
      "epoch: 154 loss: tensor(0.9239)\n",
      "epoch: 155 loss: tensor(0.9228)\n",
      "epoch: 156 loss: tensor(0.9234)\n",
      "epoch: 157 loss: tensor(0.9221)\n",
      "epoch: 158 loss: tensor(0.9223)\n",
      "epoch: 159 loss: tensor(0.9215)\n",
      "epoch: 160 loss: tensor(0.9222)\n",
      "epoch: 161 loss: tensor(0.9213)\n",
      "epoch: 162 loss: tensor(0.9218)\n",
      "epoch: 163 loss: tensor(0.9208)\n",
      "epoch: 164 loss: tensor(0.9213)\n",
      "epoch: 165 loss: tensor(0.9203)\n",
      "epoch: 166 loss: tensor(0.9211)\n",
      "epoch: 167 loss: tensor(0.9204)\n",
      "epoch: 168 loss: tensor(0.9206)\n",
      "epoch: 169 loss: tensor(0.9196)\n",
      "epoch: 170 loss: tensor(0.9204)\n",
      "epoch: 171 loss: tensor(0.9198)\n",
      "epoch: 172 loss: tensor(0.9199)\n",
      "epoch: 173 loss: tensor(0.9190)\n",
      "epoch: 174 loss: tensor(0.9195)\n",
      "epoch: 175 loss: tensor(0.9187)\n",
      "epoch: 176 loss: tensor(0.9195)\n",
      "epoch: 177 loss: tensor(0.9184)\n",
      "epoch: 178 loss: tensor(0.9191)\n",
      "epoch: 179 loss: tensor(0.9180)\n",
      "epoch: 180 loss: tensor(0.9188)\n",
      "epoch: 181 loss: tensor(0.9178)\n",
      "epoch: 182 loss: tensor(0.9193)\n",
      "epoch: 183 loss: tensor(0.9180)\n",
      "epoch: 184 loss: tensor(0.9189)\n",
      "epoch: 185 loss: tensor(0.9190)\n",
      "epoch: 186 loss: tensor(0.9203)\n",
      "epoch: 187 loss: tensor(0.9193)\n",
      "epoch: 188 loss: tensor(0.9196)\n",
      "epoch: 189 loss: tensor(0.9182)\n",
      "epoch: 190 loss: tensor(0.9190)\n",
      "epoch: 191 loss: tensor(0.9182)\n",
      "epoch: 192 loss: tensor(0.9185)\n",
      "epoch: 193 loss: tensor(0.9177)\n",
      "epoch: 194 loss: tensor(0.9181)\n",
      "epoch: 195 loss: tensor(0.9170)\n",
      "epoch: 196 loss: tensor(0.9177)\n",
      "epoch: 197 loss: tensor(0.9172)\n",
      "epoch: 198 loss: tensor(0.9175)\n",
      "epoch: 199 loss: tensor(0.9170)\n",
      "epoch: 200 loss: tensor(0.9168)\n"
     ]
    }
   ],
   "source": [
    "#145,145\n",
    "nb_epoch = 200\n",
    "for epoch in range(1, nb_epoch + 1):\n",
    "  train_loss = 0\n",
    "  s = 0.\n",
    "  for id_user in range(nb_users):\n",
    "    input = Variable(training_set[id_user]).unsqueeze(0)\n",
    "    target = input.clone()\n",
    "    if torch.sum(target.data > 0) > 0:\n",
    "      output = sae(input)\n",
    "      target.require_grad = False\n",
    "      output[target == 0] = 0\n",
    "      loss = criterion(output, target)\n",
    "      mean_corrector = nb_movies/float(torch.sum(target.data > 0) + 1e-10)\n",
    "      loss.backward()\n",
    "      train_loss += np.sqrt(loss.data*mean_corrector)\n",
    "      s += 1.\n",
    "      optimizer.step()\n",
    "  print('epoch: '+str(epoch)+' loss: '+ str(train_loss/s))"
   ]
  },
  {
   "cell_type": "markdown",
   "metadata": {
    "colab_type": "text",
    "id": "Bak5uc8gd-gX"
   },
   "source": [
    "## Testing the SAE\n"
   ]
  },
  {
   "cell_type": "code",
   "execution_count": 11,
   "metadata": {
    "colab": {
     "base_uri": "https://localhost:8080/",
     "height": 34
    },
    "colab_type": "code",
    "id": "5ztvzYRtiGCz",
    "outputId": "d0e8ea8b-9ac4-40e5-a19a-7fcfc6934d61"
   },
   "outputs": [
    {
     "name": "stdout",
     "output_type": "stream",
     "text": [
      "test loss: tensor(0.9509)\n"
     ]
    }
   ],
   "source": [
    "test_loss = 0\n",
    "s = 0.\n",
    "for id_user in range(nb_users):\n",
    "  input = Variable(training_set[id_user]).unsqueeze(0)\n",
    "  target = Variable(test_set[id_user]).unsqueeze(0)\n",
    "  if torch.sum(target.data > 0) > 0:\n",
    "    output = sae(input)\n",
    "    target.require_grad = False\n",
    "    output[target == 0] = 0\n",
    "    loss = criterion(output, target)\n",
    "    mean_corrector = nb_movies/float(torch.sum(target.data > 0) + 1e-10)\n",
    "    test_loss += np.sqrt(loss.data*mean_corrector)\n",
    "    s += 1.\n",
    "print('test loss: '+str(test_loss/s))"
   ]
  },
  {
   "cell_type": "code",
   "execution_count": null,
   "metadata": {},
   "outputs": [],
   "source": []
  }
 ],
 "metadata": {
  "accelerator": "GPU",
  "colab": {
   "collapsed_sections": [],
   "name": "AutoEncoders.ipynb",
   "provenance": [],
   "toc_visible": true
  },
  "kernelspec": {
   "display_name": "Python 3",
   "language": "python",
   "name": "python3"
  },
  "language_info": {
   "codemirror_mode": {
    "name": "ipython",
    "version": 3
   },
   "file_extension": ".py",
   "mimetype": "text/x-python",
   "name": "python",
   "nbconvert_exporter": "python",
   "pygments_lexer": "ipython3",
   "version": "3.7.7"
  }
 },
 "nbformat": 4,
 "nbformat_minor": 1
}
